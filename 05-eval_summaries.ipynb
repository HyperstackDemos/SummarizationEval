{
 "cells": [
  {
   "cell_type": "markdown",
   "metadata": {},
   "source": [
    "# Evaluate summaries\n",
    "\n",
    "Lets evaluate the quality of the resulting summaries.\n"
   ]
  },
  {
   "cell_type": "markdown",
   "metadata": {},
   "source": [
    "## Choosing an appropriate metric\n",
    "\n",
    "We will consider first, [ROUGE](https://en.wikipedia.org/wiki/ROUGE_(metric)), which measures the number of overlapping textual units (n-grams) between the summary and the reference. \n",
    "\n",
    "Install it with the `install_rouge.sh` script, as it involves a few steps.\n",
    "\n",
    "Let's create some sample summaries to gain an intuition of this metric."
   ]
  },
  {
   "cell_type": "code",
   "execution_count": 8,
   "metadata": {},
   "outputs": [],
   "source": [
    "# Extracted from https://en.wikipedia.org/wiki/Automatic_summarization\n",
    "reference_text = \"\"\"Automatic summarization is the process of shortening a set of data computationally,\n",
    "to create a subset (a summary) that represents the most important or relevant information within the original content.\n",
    "Artificial intelligence algorithms are commonly developed and employed to achieve this, specialized for different types of data.\n",
    "\"\"\"\n",
    "\n",
    "\n",
    "summary_A = \"Automatic summarization consists of turning longer input data into a shorter subset, keeping the most important parts\"\n",
    "summary_B = \"Automatic summarization is the process of shortening data computationally into a subset of most relevant information\"\n",
    "summary_C = \"Automatic summarization computationally relevant Artificial intelligence specialized data\"\n",
    "\n",
    "summaries = [summary_A, summary_B, summary_C]\n"
   ]
  },
  {
   "cell_type": "markdown",
   "metadata": {},
   "source": [
    "We need to write the texts to file to calculate the ROUGE metric."
   ]
  },
  {
   "cell_type": "code",
   "execution_count": 9,
   "metadata": {},
   "outputs": [],
   "source": [
    "with open(f\"./metrics/sample/system.001.txt\", \"w+\") as system:\n",
    "    system.write(reference_text)\n",
    "\n",
    "letters = [\"A\", \"B\", \"C\"]\n",
    "for index, summary in enumerate(summaries):\n",
    "    with open(f\"./metrics/sample/model.{letters[index]}.001.txt\", \"w+\") as model:\n",
    "        model.write(summary)"
   ]
  },
  {
   "cell_type": "code",
   "execution_count": 10,
   "metadata": {},
   "outputs": [],
   "source": [
    "from pyrouge import Rouge155\n",
    "\n",
    "def get_rouge_l_f(model):\n",
    "    r = Rouge155()\n",
    "    r.system_dir = \"./metrics/sample/\"\n",
    "    r.model_dir = \"./metrics/sample/\"\n",
    "    r.system_filename_pattern = \"system.(\\d+).txt\"\n",
    "    r.model_filename_pattern = f\"model.{model}.#ID#.txt\"\n",
    "\n",
    "    output = r.convert_and_evaluate()\n",
    "    return r.output_to_dict(output)[\"rouge_l_f_score\"]"
   ]
  },
  {
   "cell_type": "code",
   "execution_count": 11,
   "metadata": {},
   "outputs": [
    {
     "name": "stderr",
     "output_type": "stream",
     "text": [
      "2024-04-11 14:03:06,320 [MainThread  ] [INFO ]  Writing summaries.\n",
      "2024-04-11 14:03:06,324 [MainThread  ] [INFO ]  Processing summaries. Saving system files to /tmp/tmpzhg8lk99/system and model files to /tmp/tmpzhg8lk99/model.\n",
      "2024-04-11 14:03:06,325 [MainThread  ] [INFO ]  Processing files in ./metrics/sample/.\n",
      "2024-04-11 14:03:06,325 [MainThread  ] [INFO ]  Processing system.001.txt.\n",
      "2024-04-11 14:03:06,326 [MainThread  ] [INFO ]  Processing model.B.001.txt.\n",
      "2024-04-11 14:03:06,327 [MainThread  ] [INFO ]  Processing model.C.001.txt.\n",
      "2024-04-11 14:03:06,328 [MainThread  ] [INFO ]  Processing model.A.001.txt.\n",
      "2024-04-11 14:03:06,328 [MainThread  ] [INFO ]  Saved processed files to /tmp/tmpzhg8lk99/system.\n",
      "2024-04-11 14:03:06,329 [MainThread  ] [INFO ]  Processing files in ./metrics/sample/.\n",
      "2024-04-11 14:03:06,329 [MainThread  ] [INFO ]  Processing system.001.txt.\n",
      "2024-04-11 14:03:06,330 [MainThread  ] [INFO ]  Processing model.B.001.txt.\n",
      "2024-04-11 14:03:06,331 [MainThread  ] [INFO ]  Processing model.C.001.txt.\n",
      "2024-04-11 14:03:06,332 [MainThread  ] [INFO ]  Processing model.A.001.txt.\n",
      "2024-04-11 14:03:06,332 [MainThread  ] [INFO ]  Saved processed files to /tmp/tmpzhg8lk99/model.\n",
      "2024-04-11 14:03:06,333 [MainThread  ] [INFO ]  Written ROUGE configuration to /tmp/tmpyvh4gcw1/rouge_conf.xml\n",
      "2024-04-11 14:03:06,334 [MainThread  ] [INFO ]  Running ROUGE with command /home/ubuntu/apps/SummarizationEval/pyrouge/tools/ROUGE-1.5.5/ROUGE-1.5.5.pl -e /home/ubuntu/apps/SummarizationEval/pyrouge/tools/ROUGE-1.5.5/data -c 95 -2 -1 -U -r 1000 -n 4 -w 1.2 -a -m /tmp/tmpyvh4gcw1/rouge_conf.xml\n",
      "2024-04-11 14:03:06,430 [MainThread  ] [INFO ]  Writing summaries.\n",
      "2024-04-11 14:03:06,432 [MainThread  ] [INFO ]  Processing summaries. Saving system files to /tmp/tmpg5swnnat/system and model files to /tmp/tmpg5swnnat/model.\n",
      "2024-04-11 14:03:06,433 [MainThread  ] [INFO ]  Processing files in ./metrics/sample/.\n",
      "2024-04-11 14:03:06,434 [MainThread  ] [INFO ]  Processing system.001.txt.\n",
      "2024-04-11 14:03:06,436 [MainThread  ] [INFO ]  Processing model.B.001.txt.\n",
      "2024-04-11 14:03:06,437 [MainThread  ] [INFO ]  Processing model.C.001.txt.\n",
      "2024-04-11 14:03:06,438 [MainThread  ] [INFO ]  Processing model.A.001.txt.\n",
      "2024-04-11 14:03:06,439 [MainThread  ] [INFO ]  Saved processed files to /tmp/tmpg5swnnat/system.\n",
      "2024-04-11 14:03:06,440 [MainThread  ] [INFO ]  Processing files in ./metrics/sample/.\n",
      "2024-04-11 14:03:06,440 [MainThread  ] [INFO ]  Processing system.001.txt.\n",
      "2024-04-11 14:03:06,441 [MainThread  ] [INFO ]  Processing model.B.001.txt.\n",
      "2024-04-11 14:03:06,442 [MainThread  ] [INFO ]  Processing model.C.001.txt.\n",
      "2024-04-11 14:03:06,442 [MainThread  ] [INFO ]  Processing model.A.001.txt.\n",
      "2024-04-11 14:03:06,443 [MainThread  ] [INFO ]  Saved processed files to /tmp/tmpg5swnnat/model.\n",
      "2024-04-11 14:03:06,444 [MainThread  ] [INFO ]  Written ROUGE configuration to /tmp/tmpwobovu09/rouge_conf.xml\n",
      "2024-04-11 14:03:06,444 [MainThread  ] [INFO ]  Running ROUGE with command /home/ubuntu/apps/SummarizationEval/pyrouge/tools/ROUGE-1.5.5/ROUGE-1.5.5.pl -e /home/ubuntu/apps/SummarizationEval/pyrouge/tools/ROUGE-1.5.5/data -c 95 -2 -1 -U -r 1000 -n 4 -w 1.2 -a -m /tmp/tmpwobovu09/rouge_conf.xml\n",
      "2024-04-11 14:03:06,543 [MainThread  ] [INFO ]  Writing summaries.\n",
      "2024-04-11 14:03:06,546 [MainThread  ] [INFO ]  Processing summaries. Saving system files to /tmp/tmpecrfihf2/system and model files to /tmp/tmpecrfihf2/model.\n",
      "2024-04-11 14:03:06,547 [MainThread  ] [INFO ]  Processing files in ./metrics/sample/.\n",
      "2024-04-11 14:03:06,548 [MainThread  ] [INFO ]  Processing system.001.txt.\n",
      "2024-04-11 14:03:06,549 [MainThread  ] [INFO ]  Processing model.B.001.txt.\n",
      "2024-04-11 14:03:06,551 [MainThread  ] [INFO ]  Processing model.C.001.txt.\n",
      "2024-04-11 14:03:06,552 [MainThread  ] [INFO ]  Processing model.A.001.txt.\n",
      "2024-04-11 14:03:06,553 [MainThread  ] [INFO ]  Saved processed files to /tmp/tmpecrfihf2/system.\n",
      "2024-04-11 14:03:06,553 [MainThread  ] [INFO ]  Processing files in ./metrics/sample/.\n",
      "2024-04-11 14:03:06,554 [MainThread  ] [INFO ]  Processing system.001.txt.\n",
      "2024-04-11 14:03:06,554 [MainThread  ] [INFO ]  Processing model.B.001.txt.\n",
      "2024-04-11 14:03:06,555 [MainThread  ] [INFO ]  Processing model.C.001.txt.\n",
      "2024-04-11 14:03:06,556 [MainThread  ] [INFO ]  Processing model.A.001.txt.\n",
      "2024-04-11 14:03:06,556 [MainThread  ] [INFO ]  Saved processed files to /tmp/tmpecrfihf2/model.\n",
      "2024-04-11 14:03:06,557 [MainThread  ] [INFO ]  Written ROUGE configuration to /tmp/tmpnhne7f_p/rouge_conf.xml\n",
      "2024-04-11 14:03:06,558 [MainThread  ] [INFO ]  Running ROUGE with command /home/ubuntu/apps/SummarizationEval/pyrouge/tools/ROUGE-1.5.5/ROUGE-1.5.5.pl -e /home/ubuntu/apps/SummarizationEval/pyrouge/tools/ROUGE-1.5.5/data -c 95 -2 -1 -U -r 1000 -n 4 -w 1.2 -a -m /tmp/tmpnhne7f_p/rouge_conf.xml\n"
     ]
    },
    {
     "name": "stdout",
     "output_type": "stream",
     "text": [
      "Rouge-L(F) A: 0.28125\n",
      "Rouge-L(F) B: 0.44444\n",
      "Rouge-L(F) C: 0.29091\n"
     ]
    }
   ],
   "source": [
    "print(f\"Rouge-L(F) A: {get_rouge_l_f('A')}\")\n",
    "print(f\"Rouge-L(F) B: {get_rouge_l_f('B')}\")\n",
    "print(f\"Rouge-L(F) C: {get_rouge_l_f('C')}\")"
   ]
  },
  {
   "cell_type": "markdown",
   "metadata": {},
   "source": [
    "We can observe a clear limitation of lexical overlap metrics, such as ROUGE: summary C, which was not very coherent ranks higher than summary A, which was fully coherent."
   ]
  },
  {
   "cell_type": "markdown",
   "metadata": {},
   "source": [
    "Let's try now an example of a semantic overlap metric, [BERTScore](https://github.com/Tiiiger/bert_score), an automatic evaluation metric from Zhang et. al (2020):\n",
    "> BERTScore leverages the pre-trained contextual embeddings from BERT and matches words in candidate and reference sentences by cosine similarity. It has been shown to correlate with human judgment on sentence-level and system-level evaluation.\n",
    "\n",
    "We are dealing with relatively long texts but BERT and related models can\"t process them. As per the BERTScore authors:\n",
    "> Because BERT, RoBERTa, and XLM with learned positional embeddings are pre-trained on sentences with max length 512, BERTScore is undefined between sentences longer than 510 (512 after adding [CLS] and [SEP] tokens). The sentences longer than this will be truncated. Please consider using XLNet which can support much longer inputs.\n",
    "\n",
    "Here is a description of the XLNet model from the [Hugging Face model card](https://huggingface.co/xlnet/xlnet-large-cased) (**emphasis** mine):\n",
    "> XLNet is a new unsupervised language representation learning method based on a novel generalized permutation language modeling objective. Additionally, XLNet employs Transformer-XL as the backbone model, **exhibiting excellent performance for language tasks involving long context**. Overall, XLNet achieves state-of-the-art (SOTA) results on various downstream language tasks including question answering, natural language inference, sentiment analysis, and document ranking.\n",
    "\n",
    "Next, we will instantiate a `BERTScorer` object, based on the XLNet model. The embedding layer is chosen as per [the authors recommendation](https://docs.google.com/spreadsheets/d/1RKOVpselB98Nnh_EOC4A2BYn8_201tmPODpNWu4w7xI/edit#gid=0)."
   ]
  },
  {
   "cell_type": "code",
   "execution_count": 12,
   "metadata": {},
   "outputs": [],
   "source": [
    "from bert_score import BERTScorer\n",
    "\n",
    "scorer = BERTScorer(\n",
    "    lang=\"en\",\n",
    "    model_type=\"xlnet/xlnet-large-cased\",\n",
    "    num_layers=7\n",
    ")\n"
   ]
  },
  {
   "cell_type": "markdown",
   "metadata": {},
   "source": [
    "Let\"s start by getting an intuition about the metric. We create some sample summaries."
   ]
  },
  {
   "cell_type": "code",
   "execution_count": 13,
   "metadata": {},
   "outputs": [],
   "source": [
    "_, _, F1 = scorer.score(summaries, [reference_text] * len(summaries))"
   ]
  },
  {
   "cell_type": "code",
   "execution_count": 14,
   "metadata": {},
   "outputs": [
    {
     "data": {
      "text/plain": [
       "tensor([0.4748, 0.5723, 0.3627])"
      ]
     },
     "execution_count": 14,
     "metadata": {},
     "output_type": "execute_result"
    }
   ],
   "source": [
    "F1"
   ]
  },
  {
   "cell_type": "markdown",
   "metadata": {},
   "source": [
    "For a comprehensive study of summarization evaluation, please check [the paper from Fabbri et al](https://arxiv.org/abs/2007.12626)."
   ]
  },
  {
   "cell_type": "markdown",
   "metadata": {},
   "source": [
    "## Evaluate some sample summaries"
   ]
  },
  {
   "cell_type": "markdown",
   "metadata": {},
   "source": [
    "Let's try now BERTScore with a couple of our summaries."
   ]
  },
  {
   "cell_type": "code",
   "execution_count": 15,
   "metadata": {},
   "outputs": [],
   "source": [
    "import pandas as pd\n",
    "\n",
    "df_mixtral = pd.read_csv(\"./summaries/awesome_nature_100_mixtral_8x7b_instruct_summaries.csv\")\n",
    "df_llama2 = pd.read_csv(\"./summaries/awesome_nature_100_llama2_70b_chat_summaries.csv\")"
   ]
  },
  {
   "cell_type": "code",
   "execution_count": 16,
   "metadata": {},
   "outputs": [],
   "source": [
    "reference_00 = df_mixtral[\"transcript\"][0]\n",
    "summ_mixtral_00 = df_mixtral[\"MIXTRAL_8X7B_INSTRUCT_summary\"][0]\n",
    "summ_llama2_00 = df_llama2[\"LLAMA2_70B_CHAT_summary\"][0]"
   ]
  },
  {
   "cell_type": "code",
   "execution_count": 17,
   "metadata": {},
   "outputs": [
    {
     "name": "stdout",
     "output_type": "stream",
     "text": [
      "Meet Odontochelys semitestacea. This little creature spends its days \n",
      "splashing in Late Triassic swamps with a host of other reptiles. Under the surface lies its best \n",
      "defense against attack: a hard shell on its belly. Odontochelys is an early ancestor \n",
      "of the turtle. Its half-shelled body illustrates an \n",
      "important point about the modern turtle: it actually has two shells that develop \n",
      "totally separately while the turtle is still an embryo. Both are extensions of the animal’s \n",
      "skeleton, and together they are made \n",
      "of almost 60 bones. Like other embryos, turtle embryos are made of \n",
      "undifferentiated cells that become specific cell types, and then organs and tissues, through gene activity and communication\n",
      "between cells. At first, turtle embryos look very similar\n",
      "to those of other reptiles, birds, and mammals, except for a bulge of cells called \n",
      "the carapacial ridge. The ridge expands around the body \n",
      "between the neck and lower back, creating a disc shape. It guides the formation of the upper part\n",
      "of the turtle’s shell, called the carapace, likely by attracting \n",
      "the cells that will become ribs. Instead of curving downwards \n",
      "to make a regular rib cage, the ribs move outwards towards the \n",
      "carapacial ridge. They then secrete a signaling protein that converts surrounding cells \n",
      "into bone-forming cells. These fifty bones grow until they meet \n",
      "and connect with sutures. A ring of bone solidifies \n",
      "the carapace’s edges. The outer layer of skin cells produces \n",
      "the scales, known as scutes, that cover the carapace. The development of the bottom half \n",
      "of the shell, the plastron, is driven by neural crest cells, which can produce a variety of different \n",
      "cell types including neurons, cartilage and bone. A thick shield of these cells \n",
      "spreads across the belly, coming together in regions that produce\n",
      "nine plate-like bones. Eventually, these connect to the \n",
      "carapace by sutures. A turtle’s shell has obvious advantages\n",
      "for guarding against predators, but the rigid casing also presents \n",
      "some challenges. As the turtle grows, the sutures between the bones \n",
      "of the carapace and plastron spread. Most mammals and reptiles rely on a\n",
      "flexible rib cage that expands to allow them to breathe, but turtles use abdominal muscles \n",
      "attached to the shell instead: one to breathe in, \n",
      "and one to breathe out. So how did the shell evolve? Though there are still gaps in the \n",
      "fossil record, the first step seems to have been \n",
      "a thickening of the ribs. The oldest known turtle ancestor, a creature called Eunotosaurus africanus, lived 260 million years ago and looked \n",
      "almost nothing like a modern turtle, but it had a set of broad, flat ribs that anchored the muscles \n",
      "of its powerful forearms. Eunotosaurus was likely \n",
      "a burrowing creature, digging homes for itself in what’s \n",
      "now southern Africa. Odontochelys semitestacea illustrates \n",
      "another, later step in turtle evolution, with thick ribs like Eunotosaurus \n",
      "plus a belly plate for protection. Our first fossil evidence of the full \n",
      "shell characteristic of modern turtles is about 210 million years old, and belongs to a species called \n",
      "Proganochelys quenstedti, whose ribs had fused. Proganochelys could move \n",
      "between water and land. Unlike modern turtles, it couldn’t retract\n",
      "its head into its shell, but had defensive spines on its neck. Modern turtle shells are almost as diverse\n",
      "as the turtles themselves. Sea turtles have flatter, lighter shells \n",
      "for streamlined gliding through the water. Land-dwelling tortoises, meanwhile, have domed shells that can slip free of\n",
      "predators’ jaws and help them turn right-side up if \n",
      "they fall on their backs. Leatherback and softshell turtles have shells without the ring of bone \n",
      "around the edge of the carapace or the tough scutes covering it, making it easier for them to \n",
      "squeeze into tight spaces.\n"
     ]
    }
   ],
   "source": [
    "print(reference_00)\n"
   ]
  },
  {
   "cell_type": "code",
   "execution_count": 18,
   "metadata": {},
   "outputs": [
    {
     "name": "stdout",
     "output_type": "stream",
     "text": [
      "The video explains how turtle shells evolved twice. The first turtle ancestor, Eunotosaurus africanus, had broad, flat ribs that anchored the muscles of its powerful forearms. The second turtle ancestor, Odontochelys semitestacea, had thick ribs and a belly plate for protection. The first fossil evidence of the full shell characteristic of modern turtles is about 210 million years old, and belongs to a species called Proganochelys quenstedti, whose ribs had fused. Modern turtle shells are diverse, with sea turtles having flatter, lighter shells for streamlined gliding through the water, land-dwelling tortoises having domed shells that can slip free of predators’ jaws, and leatherback and softshell turtles having shells without the ring of bone around the edge or the tough scutes covering it.\n",
      "\n",
      "Curious facts:\n",
      "\n",
      "* Turtles have two shells that develop separately while the turtle is still an embryo.\n",
      "* The upper part of the turtle’s shell, called the carapace, is made of fifty bones that grow until they meet and connect with sutures.\n",
      "* The bottom half of the shell, the plastron, is driven by neural crest cells, which can produce a variety of different cell types including neurons, cartilage and bone.\n",
      "* The oldest known turtle ancestor, Eunotosaurus africanus, lived 260 million years ago and looked almost nothing like a modern turtle.\n",
      "* The first fossil evidence of the full shell characteristic of modern turtles is about 210 million years old, and belongs to a species called Proganochelys quenstedti, whose ribs had fused.\n",
      "* Modern turtle shells are almost as diverse as the turtles themselves, with sea turtles having flatter, lighter shells for streamlined gliding through the water, land-dwelling tortoises having domed shells that can slip free of predators’ jaws, and leatherback and softshell turtles having shells without the ring of bone around the edge or the tough scutes covering it.\n"
     ]
    }
   ],
   "source": [
    "print(summ_mixtral_00)"
   ]
  },
  {
   "cell_type": "code",
   "execution_count": 19,
   "metadata": {},
   "outputs": [
    {
     "name": "stdout",
     "output_type": "stream",
     "text": [
      "The video discusses the evolution of turtle shells, which have two separate shells that develop independently while the turtle is still an embryo. The upper shell, or carapace, is made of 50 bones that form from a bulge of cells called the carapacial ridge. The lower shell, or plastron, is made of nine plate-like bones that are produced by neural crest cells. The shell provides protection for turtles, but also presents challenges for breathing. The video also mentions that the first known turtle ancestor, Eunotosaurus africanus, had broad, flat ribs that anchored the muscles of its powerful forearms.\n",
      "\n",
      "Curious facts:\n",
      "\n",
      "* Turtles have two separate shells that develop independently while they are still embryos.\n",
      "* The upper shell, or carapace, is made of 50 bones that form from a bulge of cells called the carapacial ridge.\n",
      "* The lower shell, or plastron, is made of nine plate-like bones that are produced by neural crest cells.\n",
      "* The shell provides protection for turtles, but also presents challenges for breathing.\n",
      "* The first known turtle ancestor, Eunotosaurus africanus, had broad, flat ribs that anchored the muscles of its powerful forearms.\n",
      "* Modern turtle shells are almost as diverse as the turtles themselves, with different shapes and features for different species.\n"
     ]
    }
   ],
   "source": [
    "print(summ_llama2_00)"
   ]
  },
  {
   "cell_type": "markdown",
   "metadata": {},
   "source": [
    "Let's check the word lenghts of each piece:"
   ]
  },
  {
   "cell_type": "code",
   "execution_count": 20,
   "metadata": {},
   "outputs": [
    {
     "name": "stdout",
     "output_type": "stream",
     "text": [
      "Length of reference trasncript (words): 609\n",
      "Length of Mixtral summary (words): 303\n",
      "Length of Llama2 summary (words): 208\n"
     ]
    }
   ],
   "source": [
    "print(f\"Length of reference trasncript (words): {len(reference_00.split())}\")\n",
    "print(f\"Length of Mixtral summary (words): {len(summ_mixtral_00.split())}\")\n",
    "print(f\"Length of Llama2 summary (words): {len(summ_llama2_00.split())}\")"
   ]
  },
  {
   "cell_type": "markdown",
   "metadata": {},
   "source": [
    "We can draw a couple of observations:\n",
    "* Models produced summaries from roughly 1/2 to 1/3 of the original length\n",
    "* None of the models was very good at following the instruction to keep the summary in 100 words or less. This is becuase language models in general are not very good at doing math, especially meta-math, or math about the actual generation.\n",
    "\n",
    "Let's calculate now the BERTScore for these summaries."
   ]
  },
  {
   "cell_type": "code",
   "execution_count": 21,
   "metadata": {},
   "outputs": [
    {
     "data": {
      "text/plain": [
       "tensor([0.7944, 0.6852])"
      ]
     },
     "execution_count": 21,
     "metadata": {},
     "output_type": "execute_result"
    }
   ],
   "source": [
    "_, _, F1 = scorer.score([summ_mixtral_00, summ_llama2_00], [reference_00] * 2)\n",
    "F1"
   ]
  },
  {
   "cell_type": "markdown",
   "metadata": {},
   "source": [
    "Let's do a sanity check to verify if BERTScore with XLNet is actually sensitive to the whole texts."
   ]
  },
  {
   "cell_type": "code",
   "execution_count": 22,
   "metadata": {},
   "outputs": [],
   "source": [
    "reference_00 += \"\"\"this a dummy sentence with some extra-domain terms meant to\n",
    "lower the score of the summaries: computer, GPU, processor, algorithm\n",
    "\"\"\""
   ]
  },
  {
   "cell_type": "code",
   "execution_count": 23,
   "metadata": {},
   "outputs": [
    {
     "data": {
      "text/plain": [
       "tensor([0.7854, 0.6781])"
      ]
     },
     "execution_count": 23,
     "metadata": {},
     "output_type": "execute_result"
    }
   ],
   "source": [
    "_, _, F1 = scorer.score([summ_mixtral_00, summ_llama2_00], [reference_00] * 2)\n",
    "F1"
   ]
  },
  {
   "cell_type": "markdown",
   "metadata": {},
   "source": [
    "Indeed, the scores were lowered slightly, so this proves that took into account the whole reference text, thanks to XLNet longer context over BERT and variations."
   ]
  },
  {
   "cell_type": "markdown",
   "metadata": {},
   "source": [
    "## Calculating a winner"
   ]
  },
  {
   "cell_type": "code",
   "execution_count": 24,
   "metadata": {},
   "outputs": [],
   "source": [
    "def calculate_winner(scorer, row):\n",
    "    summary_mixtral = row[\"MIXTRAL_8X7B_INSTRUCT_summary\"]\n",
    "    summary_llama2 = row[\"LLAMA2_70B_CHAT_summary\"]\n",
    "    reference = row[\"transcript\"]\n",
    "    _, _, F1 = scorer.score(\n",
    "        [summary_mixtral, summary_llama2],\n",
    "        [reference] * 2\n",
    "    )\n",
    "    if F1[0] > F1[1]:\n",
    "        return \"mixtral\"\n",
    "    else:\n",
    "        return \"llama2\""
   ]
  },
  {
   "cell_type": "code",
   "execution_count": 25,
   "metadata": {},
   "outputs": [],
   "source": [
    "df_all = df_mixtral.assign(LLAMA2_70B_CHAT_summary=df_llama2[\"LLAMA2_70B_CHAT_summary\"])\n",
    "df_all[\"winner\"] = df_all.apply(lambda x: calculate_winner(scorer, x), axis=1)"
   ]
  },
  {
   "cell_type": "markdown",
   "metadata": {},
   "source": [
    "Incidentally, let's calculate acceleration of evaluation of GPU vs CPU (the BERTScorer is allocated by default on the GPU, when available)."
   ]
  },
  {
   "cell_type": "code",
   "execution_count": 26,
   "metadata": {},
   "outputs": [],
   "source": [
    "scorer_cpu = BERTScorer(\n",
    "    lang=\"en\",\n",
    "    model_type=\"xlnet/xlnet-large-cased\",\n",
    "    num_layers=7,\n",
    "    device=\"cpu\"\n",
    ")"
   ]
  },
  {
   "cell_type": "code",
   "execution_count": 27,
   "metadata": {},
   "outputs": [],
   "source": [
    "_ = df_all[:10].apply(lambda x: calculate_winner(scorer_cpu, x), axis=1)"
   ]
  },
  {
   "cell_type": "markdown",
   "metadata": {},
   "source": [
    "Ten summaries on the CPU take ~25 seconds, which would mean ~250 seconds for the 100 summaries against ~10 seconds with the GPU, so we are achieving a ~25x speedup."
   ]
  },
  {
   "cell_type": "code",
   "execution_count": 28,
   "metadata": {},
   "outputs": [
    {
     "data": {
      "image/png": "[encoded data removed]",
      "text/plain": [
       "<Figure size 600x600 with 1 Axes>"
      ]
     },
     "metadata": {},
     "output_type": "display_data"
    }
   ],
   "source": [
    "import matplotlib.pyplot as plt\n",
    "\n",
    "mixtral_won = df_all.loc[df_all[\"winner\"] == \"mixtral\"].shape[0]\n",
    "llama2_won = df_all.loc[df_all[\"winner\"] == \"llama2\"].shape[0]\n",
    "\n",
    "plt.figure(figsize=(6,6))\n",
    "plot_index = [0]\n",
    "index_mixtral = [-0.1]\n",
    "index_llama2 = [+0.1]\n",
    "labels = [\"Mixtral-8x7B-Instruct\", \"Llama2-70B-chat\"]\n",
    "plt.bar(index_mixtral, mixtral_won, label='Mixtral-8x7B-instruct', width=0.2)\n",
    "plt.bar(index_llama2, llama2_won, label='Llama2-70b-chat', width=0.2)\n",
    "plt.xticks(plot_index, labels=[\"\"])\n",
    "plt.xlabel('Model')\n",
    "plt.ylabel('Wins')\n",
    "plt.title('Win rate')\n",
    "plt.legend()\n",
    "plt.show()"
   ]
  },
  {
   "cell_type": "markdown",
   "metadata": {},
   "source": [
    "Mixtral won in this experiment of summarizing YouTube transcripts with Llama2 close in the win rate. \n",
    "\n",
    "To wrap up, let's save the results to file."
   ]
  },
  {
   "cell_type": "code",
   "execution_count": 29,
   "metadata": {},
   "outputs": [],
   "source": [
    "df_all.to_csv(f\"./summaries/awesome_nature_100_winner_summaries.csv\")"
   ]
  },
  {
   "cell_type": "code",
   "execution_count": null,
   "metadata": {},
   "outputs": [],
   "source": []
  }
 ],
 "metadata": {
  "kernelspec": {
   "display_name": ".venv",
   "language": "python",
   "name": "python3"
  },
  "language_info": {
   "codemirror_mode": {
    "name": "ipython",
    "version": 3
   },
   "file_extension": ".py",
   "mimetype": "text/x-python",
   "name": "python",
   "nbconvert_exporter": "python",
   "pygments_lexer": "ipython3",
   "version": "3.10.12"
  }
 },
 "nbformat": 4,
 "nbformat_minor": 2
}
