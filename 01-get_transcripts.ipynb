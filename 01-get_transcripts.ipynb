{
 "cells": [
  {
   "cell_type": "markdown",
   "metadata": {},
   "source": [
    "# Get YouTube video transcripts\n",
    "\n",
    "Create a dataset with the transcripts of YouTube videos from the [Awesome Nature](https://www.youtube.com/playlist?list=PLD018AC9B25A23E16) playlist from [TED-Ed](https://www.youtube.com/@TEDEd) channel."
   ]
  },
  {
   "cell_type": "markdown",
   "metadata": {},
   "source": [
    "## Step 1. Get video URLs\n"
   ]
  },
  {
   "cell_type": "code",
   "execution_count": 1,
   "metadata": {},
   "outputs": [
    {
     "name": "stdout",
     "output_type": "stream",
     "text": [
      "      video_id                                              title\n",
      "0  W9wAfqBd_T0  How turtle shells evolved... twice - Judy Cebr...\n",
      "1  Cd-artSbpXc          Why are fish fish-shaped? - Lauren Sallan\n",
      "2  _hBAr7uJ6L8  The surprising reasons animals play dead - Tie...\n",
      "3  uSTNyHkde08  Why isn't the world covered in poop? - Eleanor...\n",
      "4  -64U7WoBrqM             Why are sloths so slow? - Kenny Coogan\n",
      "<class 'pandas.core.frame.DataFrame'>\n",
      "RangeIndex: 100 entries, 0 to 99\n",
      "Data columns (total 2 columns):\n",
      " #   Column    Non-Null Count  Dtype \n",
      "---  ------    --------------  ----- \n",
      " 0   video_id  100 non-null    string\n",
      " 1   title     100 non-null    string\n",
      "dtypes: string(2)\n",
      "memory usage: 1.7 KB\n"
     ]
    }
   ],
   "source": [
    "import requests\n",
    "import re\n",
    "import pandas as pd\n",
    "\n",
    "playlist_url = \"https://www.youtube.com/playlist?list=PLD018AC9B25A23E16\"\n",
    "headers = {\n",
    "    'Accept-Language': 'en-US'\n",
    "}\n",
    "response = requests.get(playlist_url, headers=headers)\n",
    "html_content = response.text\n",
    "\n",
    "title_pattern = r'\"title\":\\{\"runs\":\\[\\{\"text\":\"(.*?)\"\\}\\]'\n",
    "video_id_pattern = r'\\{\"webCommandMetadata\":\\{\"url\":\"\\/watch\\?v=(.*?)\\\\u0026list'\n",
    "\n",
    "titles = []\n",
    "for title_match in re.finditer(title_pattern, html_content):\n",
    "    extracted_title = title_match.group(1)\n",
    "    titles.append(extracted_title)\n",
    "\n",
    "video_ids = []\n",
    "for url_match in re.finditer(video_id_pattern, html_content):\n",
    "    extracted_id = url_match.group(1)\n",
    "    video_ids.append(extracted_id)\n",
    "\n",
    "titles_series = pd.Series(titles, dtype=\"string\")\n",
    "video_ids_series = pd.Series(video_ids, dtype=\"string\")\n",
    "\n",
    "df = pd.DataFrame.from_dict({\"video_id\": video_ids_series, \"title\":  titles_series})\n",
    "# Limit to 100 entries\n",
    "df = df[:100]\n",
    "print(df.head())\n",
    "df.info()\n"
   ]
  },
  {
   "cell_type": "markdown",
   "metadata": {},
   "source": [
    "## Step 2. Get video transcripts"
   ]
  },
  {
   "cell_type": "code",
   "execution_count": 2,
   "metadata": {},
   "outputs": [
    {
     "name": "stdout",
     "output_type": "stream",
     "text": [
      "Fetching transcript for video \"How turtle shells evolved... twice - Judy Cebra Thomas\"\n",
      "Fetching transcript for video \"Why are fish fish-shaped? - Lauren Sallan\"\n",
      "Fetching transcript for video \"The surprising reasons animals play dead - Tierney Thys\"\n",
      "Fetching transcript for video \"Why isn't the world covered in poop? - Eleanor Slade and Paul Manning\"\n",
      "Fetching transcript for video \"Why are sloths so slow? - Kenny Coogan\"\n",
      "Fetching transcript for video \"The evolution of animal genitalia - Menno Schilthuizen\"\n",
      "Fetching transcript for video \"Meet the tardigrade, the toughest animal on Earth - Thomas Boothby\"\n",
      "Fetching transcript for video \"Why do we harvest horseshoe crab blood? - Elizabeth Cox\"\n",
      "Fetching transcript for video \"The surprising reason birds sing - Partha P. Mitra\"\n",
      "Fetching transcript for video \"The life cycle of the butterfly - Franziska Bauer\"\n",
      "Fetching transcript for video \"Cannibalism in the animal kingdom - Bill Schutt\"\n",
      "Fetching transcript for video \"A simple way to tell insects apart - Anika Hazra\"\n",
      "Fetching transcript for video \"Why do animals form swarms? - Maria R. D'Orsogna\"\n",
      "Fetching transcript for video \"The amazing ways plants defend themselves - Valentin Hammoudi\"\n",
      "Fetching transcript for video \"The ferocious predatory dinosaurs of Cretaceous Sahara - Nizar Ibrahim\"\n",
      "Fetching transcript for video \"The three different ways mammals give birth - Kate Slabosky\"\n",
      "Fetching transcript for video \"Why do animals have such different lifespans? - Joao Pedro de Magalhaes\"\n",
      "Fetching transcript for video \"How do animals experience pain? - Robyn J. Crook\"\n",
      "Fetching transcript for video \"What’s so great about the Great Lakes? - Cheri Dobbs and Jennifer Gabrys\"\n",
      "Fetching transcript for video \"Why do we kiss under mistletoe? - Carlos Reif\"\n",
      "Fetching transcript for video \"Do we really need pesticides? - Fernan Pérez-Gálvez\"\n",
      "Fetching transcript for video \"Why are there so many types of apples? - Theresa Doud\"\n",
      "Fetching transcript for video \"How smart are orangutans? - Lu Gao\"\n",
      "Fetching transcript for video \"How do animals see in the dark? - Anna Stöckl\"\n",
      "Fetching transcript for video \"What is the biggest single-celled organism? - Murry Gans\"\n",
      "Fetching transcript for video \"How a single-celled organism almost wiped out life on Earth - Anusuya Willis\"\n",
      "Fetching transcript for video \"How North America got its shape - Peter J. Haproff\"\n",
      "Fetching transcript for video \"The threat of invasive species - Jennifer Klos\"\n",
      "Fetching transcript for video \"Can plants talk to each other? - Richard Karban\"\n",
      "Fetching transcript for video \"Why do cats act so weird? - Tony Buffington\"\n",
      "Fetching transcript for video \"Why is Mount Everest so tall? - Michele Koppes\"\n",
      "Fetching transcript for video \"How do schools of fish swim in harmony? - Nathan S. Jacobs\"\n",
      "Fetching transcript for video \"Why are there so many insects? - Murry Gans\"\n",
      "Fetching transcript for video \"Why certain naturally occurring wildfires are necessary - Jim Schulz\"\n",
      "Fetching transcript for video \"The most lightning-struck place on Earth - Graeme Anderson\"\n",
      "Fetching transcript for video \"When will the next mass extinction occur? - Borths, D'Emic, and Pritchard\"\n",
      "Fetching transcript for video \"How do we know what color dinosaurs were? - Len Bloch\"\n",
      "Fetching transcript for video \"The science of snowflakes - Maruša Bradač\"\n",
      "Fetching transcript for video \"Do animals have language? - Michele Bishop\"\n",
      "Fetching transcript for video \"How smart are dolphins? - Lori Marino\"\n",
      "Fetching transcript for video \"What happens when continents collide? - Juan D. Carrillo\"\n",
      "Fetching transcript for video \"How does a jellyfish sting? - Neosha S Kashef\"\n",
      "Fetching transcript for video \"How plants tell time - Dasha Savage\"\n",
      "Fetching transcript for video \"Why is biodiversity so important? - Kim Preshoff\"\n",
      "Fetching transcript for video \"The science of static electricity - Anuradha Bhagwat\"\n",
      "Fetching transcript for video \"How do geckos defy gravity? - Eleanor Nelsen\"\n",
      "Fetching transcript for video \"Where did Earth’s water come from? - Zachary Metz\"\n",
      "Fetching transcript for video \"How parasites change their host's behavior - Jaap de Roode\"\n",
      "Fetching transcript for video \"How we think complex cells evolved - Adam Jacobson\"\n",
      "Fetching transcript for video \"How do dogs \\\"see\\\" with their noses? - Alexandra Horowitz\"\n",
      "Fetching transcript for video \"The truth about bats - Amy Wray\"\n",
      "Fetching transcript for video \"The hidden worlds within natural history museums - Joshua Drew\"\n",
      "Fetching transcript for video \"Why elephants never forget - Alex Gendler\"\n",
      "Fetching transcript for video \"Where do genes come from? - Carl Zimmer\"\n",
      "Fetching transcript for video \"Feedback loops: How nature gets its rhythms - Anje-Margriet Neutel\"\n",
      "Fetching transcript for video \"How do tornadoes form? - James Spann\"\n",
      "Fetching transcript for video \"What's hidden among the tallest trees on Earth? - Wendell Oshiro\"\n",
      "Fetching transcript for video \"The coelacanth: A living fossil of a fish - Erin Eastwood\"\n",
      "Fetching transcript for video \"Inside the ant colony - Deborah M. Gordon\"\n",
      "Fetching transcript for video \"A guide to the energy of the Earth - Joshua M. Sneideman\"\n",
      "Fetching transcript for video \"How to speak monkey: The language of cotton-top tamarins - Anne Savage\"\n",
      "Fetching transcript for video \"Attack of the killer algae - Eric Noel Muñoz\"\n",
      "Fetching transcript for video \"How bees help plants have sex - Fernanda S. Valdovinos\"\n",
      "Fetching transcript for video \"The colossal consequences of supervolcanoes - Alex Gendler\"\n",
      "Fetching transcript for video \"The science of symmetry - Colm Kelleher\"\n",
      "Fetching transcript for video \"How tsunamis work - Alex Gendler\"\n",
      "Fetching transcript for video \"Nature's smallest factory: The Calvin cycle - Cathy Symington\"\n",
      "Fetching transcript for video \"From the top of the food chain down: Rewilding our world - George Monbiot\"\n",
      "Fetching transcript for video \"Poison vs. venom: What's the difference? - Rose Eveleth\"\n",
      "Fetching transcript for video \"The Pangaea Pop-up - Michael Molina\"\n",
      "Fetching transcript for video \"How to fossilize...yourself - Phoebe A. Cohen\"\n",
      "Fetching transcript for video \"The popularity, plight and poop of penguins - Dyan deNapoli\"\n",
      "Fetching transcript for video \"The loathsome, lethal mosquito - Rose Eveleth\"\n",
      "Fetching transcript for video \"Bird migration, a perilous journey - Alyssa Klavans\"\n",
      "Fetching transcript for video \"Cicadas: The dormant army beneath your feet - Rose Eveleth\"\n",
      "Fetching transcript for video \"The Arctic vs. the Antarctic - Camille Seaman\"\n",
      "Fetching transcript for video \"What's below the tip of the iceberg? - Camille Seaman\"\n",
      "Fetching transcript for video \"Got seeds? Just add bleach, acid and sandpaper - Mary Koga\"\n",
      "Fetching transcript for video \"Myths and misconceptions about evolution - Alex Gendler\"\n",
      "Fetching transcript for video \"Vermicomposting: How worms can reduce our waste - Matthew Ross\"\n",
      "Fetching transcript for video \"The game-changing amniotic egg - April Tucker\"\n",
      "Fetching transcript for video \"Tracking grizzly bears from space - David Laskin\"\n",
      "Fetching transcript for video \"Reasons for the seasons - Rebecca Kaplan\"\n",
      "Fetching transcript for video \"Why do fingers become pruney? - Mark Changizi\"\n",
      "Fetching transcript for video \"The brilliance of bioluminescence - Leslie Kenna\"\n",
      "Fetching transcript for video \"How did feathers evolve? - Carl Zimmer\"\n",
      "Fetching transcript for video \"Making sense of how life fits together - Bobbi Seleski\"\n",
      "Fetching transcript for video \"How Mendel's pea plants helped us understand genetics - Hortensia Jiménez Díaz\"\n",
      "Fetching transcript for video \"The simple story of photosynthesis and food - Amanda Ooten\"\n",
      "Fetching transcript for video \"Where we get our fresh water - Christiana Z. Peppard\"\n",
      "Fetching transcript for video \"Curiosity, discovery and gecko feet - Robert Full\"\n",
      "Fetching transcript for video \"How life came to land - Tierney Thys\"\n",
      "Fetching transcript for video \"Five fingers of evolution - Paul Andersen\"\n",
      "Fetching transcript for video \"The Cockroach Beatbox\"\n",
      "Fetching transcript for video \"Evolution in a Big City\"\n",
      "Fetching transcript for video \"Symbiosis: A surprising tale of species cooperation - David Gonzales\"\n",
      "Fetching transcript for video \"Sex Determination: More Complicated Than You Thought\"\n",
      "Fetching transcript for video \"How a fly flies - Michael Dickinson\"\n",
      "Fetching transcript for video \"The case of the vanishing honeybees - Emma Bryce\"\n",
      "Fetching transcript for video \"Dead stuff: The secret ingredient in our food chain - John C. Moore\"\n"
     ]
    }
   ],
   "source": [
    "from youtube_transcript_api import YouTubeTranscriptApi\n",
    "\n",
    "transcripts = []\n",
    "for _, row in df.iterrows():\n",
    "    print(f\"Fetching transcript for video \\\"{row['title']}\\\"\")\n",
    "    transcript_list = YouTubeTranscriptApi.get_transcript(row[\"video_id\"])\n",
    "    output = []\n",
    "    for text in transcript_list:\n",
    "        output.append(text[\"text\"])\n",
    "    transcripts.append(\" \".join(output))\n",
    "\n",
    "df[\"transcript\"] = transcripts\n",
    "\n"
   ]
  },
  {
   "cell_type": "markdown",
   "metadata": {},
   "source": [
    "Export to files for reuse.\n"
   ]
  },
  {
   "cell_type": "code",
   "execution_count": 4,
   "metadata": {},
   "outputs": [],
   "source": [
    "for i in [4, 8, 16, 32, 64, 100]:\n",
    "    df[:i].to_csv(f\"./transcripts/awesome_nature_{i}.csv\")"
   ]
  },
  {
   "cell_type": "code",
   "execution_count": null,
   "metadata": {},
   "outputs": [],
   "source": []
  }
 ],
 "metadata": {
  "kernelspec": {
   "display_name": ".venv",
   "language": "python",
   "name": "python3"
  },
  "language_info": {
   "codemirror_mode": {
    "name": "ipython",
    "version": 3
   },
   "file_extension": ".py",
   "mimetype": "text/x-python",
   "name": "python",
   "nbconvert_exporter": "python",
   "pygments_lexer": "ipython3",
   "version": "3.10.12"
  }
 },
 "nbformat": 4,
 "nbformat_minor": 2
}
