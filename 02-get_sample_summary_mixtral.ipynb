{
 "cells": [
  {
   "cell_type": "markdown",
   "metadata": {},
   "source": [
    "# Get video summary with Mixtral"
   ]
  },
  {
   "cell_type": "markdown",
   "metadata": {},
   "source": [
    "## Load Mixtral\n"
   ]
  },
  {
   "cell_type": "code",
   "execution_count": 1,
   "metadata": {},
   "outputs": [
    {
     "name": "stderr",
     "output_type": "stream",
     "text": [
      "/home/ubuntu/apps/SummarizationEval/.venv/lib/python3.10/site-packages/tqdm/auto.py:21: TqdmWarning: IProgress not found. Please update jupyter and ipywidgets. See https://ipywidgets.readthedocs.io/en/stable/user_install.html\n",
      "  from .autonotebook import tqdm as notebook_tqdm\n"
     ]
    },
    {
     "name": "stdout",
     "output_type": "stream",
     "text": [
      "Token has not been saved to git credential helper. Pass `add_to_git_credential=True` if you want to set the git credential as well.\n",
      "Token is valid (permission: read).\n",
      "Your token has been saved to /home/ubuntu/.cache/huggingface/token\n",
      "Login successful\n"
     ]
    },
    {
     "name": "stderr",
     "output_type": "stream",
     "text": [
      "Loading checkpoint shards: 100%|██████████| 19/19 [00:16<00:00,  1.17it/s]\n"
     ]
    }
   ],
   "source": [
    "from LLM import LLM\n",
    "from LLM_type import LLMType\n",
    "\n",
    "mixtral = LLM(LLMType.MIXTRAL_8X7B_INSTRUCT)"
   ]
  },
  {
   "cell_type": "markdown",
   "metadata": {},
   "source": [
    "Load the transcripts from `01-get_transcripts`."
   ]
  },
  {
   "cell_type": "code",
   "execution_count": 2,
   "metadata": {},
   "outputs": [],
   "source": [
    "import pandas as pd\n",
    "\n",
    "df = pd.read_csv(\"./transcripts/awesome_nature_4.csv\")"
   ]
  },
  {
   "cell_type": "markdown",
   "metadata": {},
   "source": [
    "## Summarize transcripts"
   ]
  },
  {
   "cell_type": "markdown",
   "metadata": {},
   "source": [
    "This is a sample prompt for the summarization."
   ]
  },
  {
   "cell_type": "code",
   "execution_count": 3,
   "metadata": {},
   "outputs": [
    {
     "name": "stdout",
     "output_type": "stream",
     "text": [
      "The following is a transcript from an educational video on nature.\n",
      "Summarize the transcript, extracting the main takeaways.\n",
      "Focus on curious facts. Use a friendly tone and write in simple English.\n",
      "\n",
      "Video title: How turtle shells evolved... twice - Judy Cebra Thomas\n",
      "Video transcript:\n",
      "---\n",
      "Meet Odontochelys semitestacea. This little creature spends its days \n",
      "splashing in Late Triassic swamps with a host of other reptiles. Under the surface lies its best \n",
      "defense against attack: a hard shell on its belly. Odontochelys is an early ancestor \n",
      "of the turtle. Its half-shelled body illustrates an \n",
      "important point about the modern turtle: it actually has two shells that develop \n",
      "totally separately while the turtle is still an embryo. Both are extensions of the animal’s \n",
      "skeleton, and together they are made \n",
      "of almost 60 bones. Like other embryos, turtle embryos are made of \n",
      "undifferentiated cells that become specific cell types, and then organs and tissues, through gene activity and communication\n",
      "between cells. At first, turtle embryos look very similar\n",
      "to those of other reptiles, birds, and mammals, except for a bulge of cells called \n",
      "the carapacial ridge. The ridge expands around the body \n",
      "between the neck and lower back, creating a disc shape. It guides the formation of the upper part\n",
      "of the turtle’s shell, called the carapace, likely by attracting \n",
      "the cells that will become ribs. Instead of curving downwards \n",
      "to make a regular rib cage, the ribs move outwards towards the \n",
      "carapacial ridge. They then secrete a signaling protein that converts surrounding cells \n",
      "into bone-forming cells. These fifty bones grow until they meet \n",
      "and connect with sutures. A ring of bone solidifies \n",
      "the carapace’s edges. The outer layer of skin cells produces \n",
      "the scales, known as scutes, that cover the carapace. The development of the bottom half \n",
      "of the shell, the plastron, is driven by neural crest cells, which can produce a variety of different \n",
      "cell types including neurons, cartilage and bone. A thick shield of these cells \n",
      "spreads across the belly, coming together in regions that produce\n",
      "nine plate-like bones. Eventually, these connect to the \n",
      "carapace by sutures. A turtle’s shell has obvious advantages\n",
      "for guarding against predators, but the rigid casing also presents \n",
      "some challenges. As the turtle grows, the sutures between the bones \n",
      "of the carapace and plastron spread. Most mammals and reptiles rely on a\n",
      "flexible rib cage that expands to allow them to breathe, but turtles use abdominal muscles \n",
      "attached to the shell instead: one to breathe in, \n",
      "and one to breathe out. So how did the shell evolve? Though there are still gaps in the \n",
      "fossil record, the first step seems to have been \n",
      "a thickening of the ribs. The oldest known turtle ancestor, a creature called Eunotosaurus africanus, lived 260 million years ago and looked \n",
      "almost nothing like a modern turtle, but it had a set of broad, flat ribs that anchored the muscles \n",
      "of its powerful forearms. Eunotosaurus was likely \n",
      "a burrowing creature, digging homes for itself in what’s \n",
      "now southern Africa. Odontochelys semitestacea illustrates \n",
      "another, later step in turtle evolution, with thick ribs like Eunotosaurus \n",
      "plus a belly plate for protection. Our first fossil evidence of the full \n",
      "shell characteristic of modern turtles is about 210 million years old, and belongs to a species called \n",
      "Proganochelys quenstedti, whose ribs had fused. Proganochelys could move \n",
      "between water and land. Unlike modern turtles, it couldn’t retract\n",
      "its head into its shell, but had defensive spines on its neck. Modern turtle shells are almost as diverse\n",
      "as the turtles themselves. Sea turtles have flatter, lighter shells \n",
      "for streamlined gliding through the water. Land-dwelling tortoises, meanwhile, have domed shells that can slip free of\n",
      "predators’ jaws and help them turn right-side up if \n",
      "they fall on their backs. Leatherback and softshell turtles have shells without the ring of bone \n",
      "around the edge of the carapace or the tough scutes covering it, making it easier for them to \n",
      "squeeze into tight spaces.\n",
      "---\n",
      "\n",
      "Summarization of the video transcript in 100 words or less:\n",
      "\n"
     ]
    }
   ],
   "source": [
    "from prompts import summarization_prompt\n",
    "\n",
    "row = df.iloc[0]\n",
    "sample_prompt = summarization_prompt.format(\n",
    "    title=row[\"title\"], transcript=row[\"transcript\"]\n",
    ")\n",
    "print(sample_prompt)"
   ]
  },
  {
   "cell_type": "markdown",
   "metadata": {},
   "source": [
    "Let's inspect a few summaries."
   ]
  },
  {
   "cell_type": "code",
   "execution_count": 4,
   "metadata": {},
   "outputs": [
    {
     "name": "stdout",
     "output_type": "stream",
     "text": [
      "0: summarizing titles:\n",
      "\tHow turtle shells evolved... twice - Judy Cebra Thomas\n"
     ]
    }
   ],
   "source": [
    "mixtral_sample_summaries = mixtral.get_all_summaries(df[0:1])"
   ]
  },
  {
   "cell_type": "code",
   "execution_count": 5,
   "metadata": {},
   "outputs": [
    {
     "name": "stdout",
     "output_type": "stream",
     "text": [
      "The video explains how turtle shells evolved twice. The first turtle ancestor, Eunotosaurus africanus, had broad, flat ribs that anchored the muscles of its powerful forearms. The second turtle ancestor, Odontochelys semitestacea, had thick ribs and a belly plate for protection. The first fossil evidence of the full shell characteristic of modern turtles is about 210 million years old, and belongs to a species called Proganochelys quenstedti, whose ribs had fused. Modern turtle shells are diverse, with sea turtles having flatter, lighter shells for streamlined gliding through the water, land-dwelling tortoises having domed shells that can slip free of predators’ jaws, and leatherback and softshell turtles having shells without the ring of bone around the edge or the tough scutes covering it.\n",
      "\n",
      "Curious facts:\n",
      "\n",
      "* Turtles have two shells that develop separately while the turtle is still an embryo.\n",
      "* The upper part of the turtle’s shell, called the carapace, is made of fifty bones.\n",
      "* The bottom half of the shell, the plastron, is driven by neural crest cells.\n",
      "* The oldest known turtle ancestor, Eunotosaurus africanus, lived 260 million years ago and had broad, flat ribs that anchored the muscles of its powerful forearms.\n",
      "* The first fossil evidence of the full shell characteristic of modern turtles is about 210 million years old, and belongs to a species called Proganochelys quenstedti, whose ribs had fused.\n",
      "* Modern turtle shells are almost as diverse as the turtles themselves, with sea turtles having flatter, lighter shells for streamlined gliding through the water, land-dwelling tortoises having domed shells that can slip free of predators’ jaws, and leatherback and softshell turtles having shells without the ring of bone around the edge or the tough scutes covering it.\n"
     ]
    }
   ],
   "source": [
    "print(mixtral_sample_summaries[0])"
   ]
  },
  {
   "cell_type": "code",
   "execution_count": null,
   "metadata": {},
   "outputs": [],
   "source": []
  }
 ],
 "metadata": {
  "kernelspec": {
   "display_name": ".venv",
   "language": "python",
   "name": "python3"
  },
  "language_info": {
   "codemirror_mode": {
    "name": "ipython",
    "version": 3
   },
   "file_extension": ".py",
   "mimetype": "text/x-python",
   "name": "python",
   "nbconvert_exporter": "python",
   "pygments_lexer": "ipython3",
   "version": "3.10.12"
  }
 },
 "nbformat": 4,
 "nbformat_minor": 2
}
