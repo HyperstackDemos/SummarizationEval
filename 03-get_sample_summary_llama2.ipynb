{
 "cells": [
  {
   "cell_type": "markdown",
   "metadata": {},
   "source": [
    "# Get video summary with Llama2"
   ]
  },
  {
   "cell_type": "markdown",
   "metadata": {},
   "source": [
    "## Load model (Llama2)\n"
   ]
  },
  {
   "cell_type": "code",
   "execution_count": 1,
   "metadata": {},
   "outputs": [
    {
     "name": "stderr",
     "output_type": "stream",
     "text": [
      "/home/ubuntu/apps/SummarizationEval/.venv/lib/python3.10/site-packages/tqdm/auto.py:21: TqdmWarning: IProgress not found. Please update jupyter and ipywidgets. See https://ipywidgets.readthedocs.io/en/stable/user_install.html\n",
      "  from .autonotebook import tqdm as notebook_tqdm\n"
     ]
    },
    {
     "name": "stdout",
     "output_type": "stream",
     "text": [
      "Token has not been saved to git credential helper. Pass `add_to_git_credential=True` if you want to set the git credential as well.\n",
      "Token is valid (permission: read).\n",
      "Your token has been saved to /home/ubuntu/.cache/huggingface/token\n",
      "Login successful\n"
     ]
    },
    {
     "name": "stderr",
     "output_type": "stream",
     "text": [
      "Loading checkpoint shards: 100%|██████████| 15/15 [00:22<00:00,  1.51s/it]\n"
     ]
    }
   ],
   "source": [
    "from LLM import LLM\n",
    "from LLM_type import LLMType\n",
    "\n",
    "llama2 = LLM(LLMType.LLAMA2_70B_CHAT)"
   ]
  },
  {
   "cell_type": "code",
   "execution_count": 2,
   "metadata": {},
   "outputs": [],
   "source": [
    "import pandas as pd\n",
    "\n",
    "df = pd.read_csv(\"./transcripts/awesome_nature_4.csv\")"
   ]
  },
  {
   "cell_type": "code",
   "execution_count": 3,
   "metadata": {},
   "outputs": [
    {
     "name": "stdout",
     "output_type": "stream",
     "text": [
      "0: summarizing titles:\n",
      "\tHow turtle shells evolved... twice - Judy Cebra Thomas\n"
     ]
    },
    {
     "name": "stderr",
     "output_type": "stream",
     "text": [
      "/home/ubuntu/apps/SummarizationEval/.venv/lib/python3.10/site-packages/transformers/generation/configuration_utils.py:492: UserWarning: `do_sample` is set to `False`. However, `temperature` is set to `0.6` -- this flag is only used in sample-based generation modes. You should set `do_sample=True` or unset `temperature`.\n",
      "  warnings.warn(\n",
      "/home/ubuntu/apps/SummarizationEval/.venv/lib/python3.10/site-packages/transformers/generation/configuration_utils.py:497: UserWarning: `do_sample` is set to `False`. However, `top_p` is set to `0.9` -- this flag is only used in sample-based generation modes. You should set `do_sample=True` or unset `top_p`.\n",
      "  warnings.warn(\n"
     ]
    }
   ],
   "source": [
    "llama2_sample_summaries = llama2.get_all_summaries(df[0:1])"
   ]
  },
  {
   "cell_type": "code",
   "execution_count": 4,
   "metadata": {},
   "outputs": [
    {
     "name": "stdout",
     "output_type": "stream",
     "text": [
      "The video discusses the evolution of turtle shells, which have two separate shells that develop independently while the turtle is still an embryo. The upper shell, or carapace, is made of 50 bones that form from a bulge of cells called the carapacial ridge. The lower shell, or plastron, is made of nine plate-like bones that are produced by neural crest cells. The shell provides protection for turtles, but also presents challenges for breathing. The video also mentions that the first known turtle ancestor, Eunotosaurus africanus, had broad, flat ribs that anchored the muscles of its powerful forearms.\n",
      "\n",
      "Curious facts:\n",
      "\n",
      "* Turtles have two separate shells that develop independently while they are still embryos.\n",
      "* The upper shell, or carapace, is made of 50 bones that form from a bulge of cells called the carapacial ridge.\n",
      "* The lower shell, or plastron, is made of nine plate-like bones that are produced by neural crest cells.\n",
      "* The shell provides protection for turtles, but also presents challenges for breathing.\n",
      "* The first known turtle ancestor, Eunotosaurus africanus, had broad, flat ribs that anchored the muscles of its powerful forearms.\n",
      "* Modern turtle shells are almost as diverse as the turtles themselves, with different shapes and features for different species.\n"
     ]
    }
   ],
   "source": [
    "print(llama2_sample_summaries[0])"
   ]
  },
  {
   "cell_type": "code",
   "execution_count": null,
   "metadata": {},
   "outputs": [],
   "source": []
  }
 ],
 "metadata": {
  "kernelspec": {
   "display_name": ".venv",
   "language": "python",
   "name": "python3"
  },
  "language_info": {
   "codemirror_mode": {
    "name": "ipython",
    "version": 3
   },
   "file_extension": ".py",
   "mimetype": "text/x-python",
   "name": "python",
   "nbconvert_exporter": "python",
   "pygments_lexer": "ipython3",
   "version": "3.10.12"
  }
 },
 "nbformat": 4,
 "nbformat_minor": 2
}
